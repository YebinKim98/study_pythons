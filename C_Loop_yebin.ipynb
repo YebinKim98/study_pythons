{
  "nbformat": 4,
  "nbformat_minor": 0,
  "metadata": {
    "colab": {
      "provenance": [],
      "authorship_tag": "ABX9TyNQ9TtFby4SK0B5hgpXUSnw",
      "include_colab_link": true
    },
    "kernelspec": {
      "name": "python3",
      "display_name": "Python 3"
    },
    "language_info": {
      "name": "python"
    }
  },
  "cells": [
    {
      "cell_type": "markdown",
      "metadata": {
        "id": "view-in-github",
        "colab_type": "text"
      },
      "source": [
        "<a href=\"https://colab.research.google.com/github/YebinKim98/study_pythons/blob/main/C_Loop_yebin.ipynb\" target=\"_parent\"><img src=\"https://colab.research.google.com/assets/colab-badge.svg\" alt=\"Open In Colab\"/></a>"
      ]
    },
    {
      "cell_type": "code",
      "source": [
        "count = 1"
      ],
      "metadata": {
        "id": "1OuarJ-RyVQr"
      },
      "execution_count": null,
      "outputs": []
    },
    {
      "cell_type": "code",
      "execution_count": null,
      "metadata": {
        "id": "G0Mwr364twbA",
        "colab": {
          "base_uri": "https://localhost:8080/"
        },
        "outputId": "2dba2ecd-fa11-4ed4-cc58-eebddb7a286d"
      },
      "outputs": [
        {
          "output_type": "stream",
          "name": "stdout",
          "text": [
            "1\n",
            "2\n",
            "3\n",
            "4\n",
            "5\n",
            "end\n"
          ]
        }
      ],
      "source": [
        "while (count) <= 5 :\n",
        " print(count)\n",
        " count = count + 1\n",
        "print('end')"
      ]
    }
  ]
}